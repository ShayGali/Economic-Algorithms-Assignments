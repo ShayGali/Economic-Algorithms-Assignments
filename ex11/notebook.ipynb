{
  "nbformat": 4,
  "nbformat_minor": 0,
  "metadata": {
    "colab": {
      "provenance": [],
      "authorship_tag": "ABX9TyMSWFVsYZNxg+n/0xbF0/18",
      "include_colab_link": true
    },
    "kernelspec": {
      "name": "python3",
      "display_name": "Python 3"
    },
    "language_info": {
      "name": "python"
    }
  },
  "cells": [
    {
      "cell_type": "markdown",
      "metadata": {
        "id": "view-in-github",
        "colab_type": "text"
      },
      "source": [
        "<a href=\"https://colab.research.google.com/gist/ShayGali/9f7a94ecfccf90047e5c1662c050bdc5/untitled1.ipynb\" target=\"_parent\"><img src=\"https://colab.research.google.com/assets/colab-badge.svg\" alt=\"Open In Colab\"/></a>"
      ]
    },
    {
      "cell_type": "markdown",
      "source": [
        "# Economic Algorithms Assignment 11"
      ],
      "metadata": {
        "id": "DublQMYDNWWC"
      }
    },
    {
      "cell_type": "code",
      "source": [
        "import networkx as nx\n",
        "from typing import List, Set, Optional\n",
        "\n",
        "\n",
        "def find_decomposition(\n",
        "    budget: List[float],\n",
        "    preferences: List[Set[int]],\n",
        ") -> Optional[List[List[float]]]:\n",
        "    \"\"\"\n",
        "    Check whether a given continuous budget vector is decomposable, and\n",
        "    return one valid decomposition if it exists.\n",
        "\n",
        "    Parameters\n",
        "    ----------\n",
        "    budget : list[float]\n",
        "        The amount d_j allocated to each project j.  The sum equals C.\n",
        "    preferences : list[set[int]]\n",
        "        For every citizen i, the set A_i of projects she approves.\n",
        "\n",
        "    Returns\n",
        "    -------\n",
        "    None | list[list[float]]\n",
        "        * None              - the budget is **not** decomposable.\n",
        "        * list of lists     - an n X m matrix d_{i,j}; each row i sums\n",
        "          to C/n, each column j sums to d_j, and d_{i,j} > 0 only if\n",
        "          j ∈ A_i.\n",
        "    \"\"\"\n",
        "\n",
        "    n = len(preferences)\n",
        "    m = len(budget)\n",
        "    C = sum(budget)\n",
        "\n",
        "    # Each citizen’s “fair share” according to the assignment text\n",
        "    share = C / n\n",
        "\n",
        "    # Build a flow network:\n",
        "    #   source  ->  citizens  ->  projects  ->  sink\n",
        "    G = nx.DiGraph()\n",
        "    src, sink = \"s\", \"t\"\n",
        "\n",
        "    # Source → citizen edges: capacity\n",
        "    for i in range(n):\n",
        "        G.add_edge(src, f\"i{i}\", capacity=share)\n",
        "\n",
        "    # Citizen → project edges: capacity = share\n",
        "    for i, proj in enumerate(preferences):\n",
        "        for j in proj:\n",
        "            G.add_edge(f\"i{i}\", f\"p{j}\", capacity=share)\n",
        "\n",
        "    # Project → sink edges: capacity = budget assigned to the project\n",
        "    for j, dj in enumerate(budget):\n",
        "        G.add_edge(f\"p{j}\", sink, capacity=dj)\n",
        "\n",
        "    # Compute the maximum flow\n",
        "    flow_value, flow_dict = nx.maximum_flow(G, src, sink)\n",
        "\n",
        "    # If the max flow is smaller than C (up to numerical tolerance),\n",
        "    # the budget cannot be decomposed.\n",
        "    if abs(flow_value - C) > 1e-6:\n",
        "        return None\n",
        "\n",
        "    # Extract the decomposition matrix d_{i,j} from the flow result\n",
        "    decomposition = [\n",
        "        [flow_dict.get(f\"i{i}\").get(f\"p{j}\", 0.0) for j in range(m)]  # 0 if no edge\n",
        "        for i in range(n)\n",
        "    ]\n",
        "\n",
        "    return decomposition\n",
        "\n",
        "\n",
        "# ---- Example usage ----\n",
        "if __name__ == \"__main__\":\n",
        "    budget = [400, 50, 50, 0]  # d_j (must sum to C = 500)\n",
        "    preferences = [{0, 1}, {0, 2}, {0, 3}, {1, 2}, {0}]  # A_i sets\n",
        "\n",
        "    d = find_decomposition(budget, preferences)\n",
        "    if d is None:\n",
        "        print(\"The budget is NOT decomposable.\")\n",
        "    else:\n",
        "        print(\"A valid decomposition matrix d_{i,j}:\")\n",
        "        for i, row in enumerate(d):\n",
        "            print(f\"Citizen {i}: {row}\")\n"
      ],
      "metadata": {
        "colab": {
          "base_uri": "https://localhost:8080/"
        },
        "id": "0Kgd2Cj6NRfF",
        "outputId": "d78a05e1-10ce-4103-a7f3-e419c20a2361"
      },
      "execution_count": 1,
      "outputs": [
        {
          "output_type": "stream",
          "name": "stdout",
          "text": [
            "A valid decomposition matrix d_{i,j}:\n",
            "Citizen 0: [100.0, 0, 0.0, 0.0]\n",
            "Citizen 1: [100.0, 0.0, 0, 0.0]\n",
            "Citizen 2: [100.0, 0.0, 0.0, 0]\n",
            "Citizen 3: [0.0, 50.0, 50.0, 0.0]\n",
            "Citizen 4: [100.0, 0.0, 0.0, 0.0]\n"
          ]
        }
      ]
    }
  ]
}